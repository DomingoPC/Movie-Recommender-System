{
 "cells": [
  {
   "cell_type": "markdown",
   "id": "5f616ce7",
   "metadata": {},
   "source": [
    "# User-Based Recommender System\n",
    "\n",
    "A recommender system is an algorithm or model that takes in information about a user and suggests an item — new to them — that is likely to be of interest. There are several approaches to building such a system, and this notebook will focus on **user-based methods**. Let's begin by starting the PySpark session:\n"
   ]
  },
  {
   "cell_type": "code",
   "execution_count": 1,
   "id": "2681755e",
   "metadata": {},
   "outputs": [
    {
     "data": {
      "text/html": [
       "\n",
       "            <div>\n",
       "                <p><b>SparkSession - in-memory</b></p>\n",
       "                \n",
       "        <div>\n",
       "            <p><b>SparkContext</b></p>\n",
       "\n",
       "            <p><a href=\"http://127.0.0.1:4040\">Spark UI</a></p>\n",
       "\n",
       "            <dl>\n",
       "              <dt>Version</dt>\n",
       "                <dd><code>v3.5.4</code></dd>\n",
       "              <dt>Master</dt>\n",
       "                <dd><code>local[*]</code></dd>\n",
       "              <dt>AppName</dt>\n",
       "                <dd><code>CBRS</code></dd>\n",
       "            </dl>\n",
       "        </div>\n",
       "        \n",
       "            </div>\n",
       "        "
      ],
      "text/plain": [
       "<pyspark.sql.session.SparkSession at 0x190da0f24c0>"
      ]
     },
     "execution_count": 1,
     "metadata": {},
     "output_type": "execute_result"
    }
   ],
   "source": [
    "# Load libraries\n",
    "import numpy as np\n",
    "import pandas as pd\n",
    "import seaborn as sns\n",
    "import matplotlib.pyplot as plt\n",
    "import helper_functions as hf\n",
    "import pyspark.sql.functions as f\n",
    "from pyspark.sql.types import FloatType, StringType, ArrayType\n",
    "from pyspark.ml.feature import VectorAssembler, MinMaxScaler\n",
    "from pyspark.ml import Pipeline\n",
    "\n",
    "# Initialize Spark\n",
    "from pyspark.sql import SparkSession\n",
    "spark = SparkSession.builder.appName(\"CBRS\").getOrCreate()\n",
    "spark"
   ]
  },
  {
   "cell_type": "code",
   "execution_count": 2,
   "id": "24bb8777",
   "metadata": {},
   "outputs": [
    {
     "data": {
      "text/html": [
       "<div>\n",
       "<style scoped>\n",
       "    .dataframe tbody tr th:only-of-type {\n",
       "        vertical-align: middle;\n",
       "    }\n",
       "\n",
       "    .dataframe tbody tr th {\n",
       "        vertical-align: top;\n",
       "    }\n",
       "\n",
       "    .dataframe thead th {\n",
       "        text-align: right;\n",
       "    }\n",
       "</style>\n",
       "<table border=\"1\" class=\"dataframe\">\n",
       "  <thead>\n",
       "    <tr style=\"text-align: right;\">\n",
       "      <th></th>\n",
       "      <th>userId</th>\n",
       "      <th>movieId</th>\n",
       "      <th>rating</th>\n",
       "    </tr>\n",
       "  </thead>\n",
       "  <tbody>\n",
       "    <tr>\n",
       "      <th>0</th>\n",
       "      <td>1</td>\n",
       "      <td>110</td>\n",
       "      <td>1.0</td>\n",
       "    </tr>\n",
       "    <tr>\n",
       "      <th>1</th>\n",
       "      <td>1</td>\n",
       "      <td>147</td>\n",
       "      <td>4.5</td>\n",
       "    </tr>\n",
       "    <tr>\n",
       "      <th>2</th>\n",
       "      <td>1</td>\n",
       "      <td>858</td>\n",
       "      <td>5.0</td>\n",
       "    </tr>\n",
       "  </tbody>\n",
       "</table>\n",
       "</div>"
      ],
      "text/plain": [
       "   userId  movieId  rating\n",
       "0       1      110     1.0\n",
       "1       1      147     4.5\n",
       "2       1      858     5.0"
      ]
     },
     "metadata": {},
     "output_type": "display_data"
    }
   ],
   "source": [
    "# Movies Metadata (Load Dataset)\n",
    "df = spark.read.parquet('data/cleaned/ratings/')\n",
    "display(df.limit(3).toPandas())"
   ]
  },
  {
   "cell_type": "markdown",
   "id": "37a1aacf",
   "metadata": {},
   "source": [
    "## Introduction\n"
   ]
  },
  {
   "cell_type": "markdown",
   "id": "806cbfcd",
   "metadata": {},
   "source": [
    "User-Based Recommender Systems (UBRS) use the information about the preferences of similar users — or opposites — to make recommendations. The core idea is that if two users show high correlation in their preferences — positive or negative —, then one user's future preferences can be predicted based on the other user's past behavior. However, preferences not only have to refer to product ratings, but they include for example interactions with the webpage — time spent reading an article, clicked items in the current session, photos watched, etc. For this reason, an UBRS is capable of providing a custom experience even session wise, although the reliability of the data becomes the main issue.\n",
    "\n",
    "On the contrary, this kind of systems struggles with several situations:\n",
    "- **Cold Start Problem:** when there is little to no information about a customer, the recommendations become unreliable, as the user cannot show correlation with any other.\n",
    "- **Computation:** when the database is large, the process becomes expensive.\n",
    "- **Changes of opinion:** while the item data is theoretically unchanging, the customer's opinion about the rated items may vary over time."
   ]
  },
  {
   "cell_type": "markdown",
   "id": "07d7d143",
   "metadata": {},
   "source": [
    "### Cosine Similarity"
   ]
  },
  {
   "cell_type": "markdown",
   "id": "50a6b2fb",
   "metadata": {},
   "source": [
    "Through cosine similarity, it is possible to compute a value based on the *angle* between two *vectors*, with the *vectors* being the user's rating of movies and the *angle* the similarity to each other — it can be positive or negative, if they are similar or opposites, but the values are kept between $[-1,1]$.\n",
    "\n",
    "The main problem with this approach are the memory issues, caused by the large number of unique movies and users in the dataset, but it is still interesting to understand this implementation and, for that reason, we will continue with a limited data set of 10 users:"
   ]
  },
  {
   "cell_type": "code",
   "execution_count": 3,
   "id": "40ea3e4a",
   "metadata": {},
   "outputs": [],
   "source": [
    "# Filter out users with an Id higher than 10\n",
    "filtered_df = df.filter(f.col('userId') <= 10)\n",
    "\n",
    "# Build the user-movie matrix: \n",
    "#   userId as rows, movieId as columns and user rating as content.\n",
    "user_movie = filtered_df.groupBy('userId').pivot('movieId').agg(f.first('rating'))"
   ]
  },
  {
   "cell_type": "markdown",
   "id": "661a90bc",
   "metadata": {},
   "source": [
    "With the memory constrains solved, the next problem is that there are users who did not rate every movie we are considering, which is the most common case, possibly because they have not watched it. This means that the user-movie matrix is filled with lots of missing data (`NA`), which cannot be easily imputed by a number, as it would assume it to be the opinion of the user about the movie.\n",
    "\n",
    "There are several approaches to manage this:\n",
    "- Impute the missing values as $0$, which is simple, fast and allows for computing cosine similarity, at the expense of some reliability loss.\n",
    "- Only compare overlapping results, meaning that the similarity will be computed based on the movies that both users rated, and if they do not share any, the similarity score is zero. This is similar to how Pearson correlation is usually computed.\n",
    "- Mean centering, although for users with only one rating, it would cause them to have $0$ in all their rating.\n",
    "\n",
    "(??)"
   ]
  },
  {
   "cell_type": "code",
   "execution_count": null,
   "id": "f530ce5c",
   "metadata": {},
   "outputs": [
    {
     "name": "stdout",
     "output_type": "stream",
     "text": [
      "+------+--------------------+\n",
      "|userId|            features|\n",
      "+------+--------------------+\n",
      "|     1|(352,[11,13,60,79...|\n",
      "|     6|(352,[3,73,149,15...|\n",
      "|     3|(352,[34,36,37,60...|\n",
      "+------+--------------------+\n",
      "only showing top 3 rows\n",
      "\n"
     ]
    }
   ],
   "source": [
    "# Impute NAs as 0\n",
    "user_movie = user_movie.fillna(0)\n",
    "\n",
    "# Create a dense vector representation for each user\n",
    "vector_assembler = VectorAssembler(\n",
    "    inputCols=user_movie.columns[1:], outputCol='vectors'\n",
    ")\n",
    "\n",
    "# Normalization\n",
    "scaler = MinMaxScaler(inputCol='vectors', outputCol='features')\n",
    "\n",
    "# Pipeline\n",
    "p = Pipeline(stages=[vector_assembler, scaler]).fit(user_movie)\n",
    "\n",
    "# Transform data\n",
    "user_vector = p.transform(user_movie).select('userId','features')\n",
    "user_vector.show(3, truncate=True)"
   ]
  },
  {
   "cell_type": "code",
   "execution_count": 9,
   "id": "fd0d2b6d",
   "metadata": {},
   "outputs": [
    {
     "data": {
      "text/html": [
       "<div>\n",
       "<style scoped>\n",
       "    .dataframe tbody tr th:only-of-type {\n",
       "        vertical-align: middle;\n",
       "    }\n",
       "\n",
       "    .dataframe tbody tr th {\n",
       "        vertical-align: top;\n",
       "    }\n",
       "\n",
       "    .dataframe thead th {\n",
       "        text-align: right;\n",
       "    }\n",
       "</style>\n",
       "<table border=\"1\" class=\"dataframe\">\n",
       "  <thead>\n",
       "    <tr style=\"text-align: right;\">\n",
       "      <th></th>\n",
       "      <th>userId</th>\n",
       "      <th>features</th>\n",
       "      <th>userId</th>\n",
       "      <th>features</th>\n",
       "    </tr>\n",
       "  </thead>\n",
       "  <tbody>\n",
       "    <tr>\n",
       "      <th>0</th>\n",
       "      <td>1</td>\n",
       "      <td>(0.0, 0.0, 0.0, 0.0, 0.0, 0.0, 0.0, 0.0, 0.0, ...</td>\n",
       "      <td>6</td>\n",
       "      <td>(0.0, 0.0, 0.0, 1.0, 0.0, 0.0, 0.0, 0.0, 0.0, ...</td>\n",
       "    </tr>\n",
       "    <tr>\n",
       "      <th>1</th>\n",
       "      <td>1</td>\n",
       "      <td>(0.0, 0.0, 0.0, 0.0, 0.0, 0.0, 0.0, 0.0, 0.0, ...</td>\n",
       "      <td>3</td>\n",
       "      <td>(0.0, 0.0, 0.0, 0.0, 0.0, 0.0, 0.0, 0.0, 0.0, ...</td>\n",
       "    </tr>\n",
       "    <tr>\n",
       "      <th>2</th>\n",
       "      <td>1</td>\n",
       "      <td>(0.0, 0.0, 0.0, 0.0, 0.0, 0.0, 0.0, 0.0, 0.0, ...</td>\n",
       "      <td>5</td>\n",
       "      <td>(0.0, 0.0, 1.0, 0.0, 0.0, 0.0, 0.0, 0.0, 0.0, ...</td>\n",
       "    </tr>\n",
       "  </tbody>\n",
       "</table>\n",
       "</div>"
      ],
      "text/plain": [
       "   userId                                           features  userId  \\\n",
       "0       1  (0.0, 0.0, 0.0, 0.0, 0.0, 0.0, 0.0, 0.0, 0.0, ...       6   \n",
       "1       1  (0.0, 0.0, 0.0, 0.0, 0.0, 0.0, 0.0, 0.0, 0.0, ...       3   \n",
       "2       1  (0.0, 0.0, 0.0, 0.0, 0.0, 0.0, 0.0, 0.0, 0.0, ...       5   \n",
       "\n",
       "                                            features  \n",
       "0  (0.0, 0.0, 0.0, 1.0, 0.0, 0.0, 0.0, 0.0, 0.0, ...  \n",
       "1  (0.0, 0.0, 0.0, 0.0, 0.0, 0.0, 0.0, 0.0, 0.0, ...  \n",
       "2  (0.0, 0.0, 1.0, 0.0, 0.0, 0.0, 0.0, 0.0, 0.0, ...  "
      ]
     },
     "metadata": {},
     "output_type": "display_data"
    }
   ],
   "source": [
    "# Cross Join: cartesian product to form pairs (filter to avoid redundancy)\n",
    "user_cross = user_vector.alias('left').\\\n",
    "    crossJoin(user_vector.alias('right')).\\\n",
    "    filter(f.col('left.userId') < f.col('right.userId'))\n",
    "\n",
    "display(user_cross.limit(3).toPandas())"
   ]
  },
  {
   "cell_type": "code",
   "execution_count": null,
   "id": "2eb799ab",
   "metadata": {},
   "outputs": [
    {
     "data": {
      "text/html": [
       "<div>\n",
       "<style scoped>\n",
       "    .dataframe tbody tr th:only-of-type {\n",
       "        vertical-align: middle;\n",
       "    }\n",
       "\n",
       "    .dataframe tbody tr th {\n",
       "        vertical-align: top;\n",
       "    }\n",
       "\n",
       "    .dataframe thead th {\n",
       "        text-align: right;\n",
       "    }\n",
       "</style>\n",
       "<table border=\"1\" class=\"dataframe\">\n",
       "  <thead>\n",
       "    <tr style=\"text-align: right;\">\n",
       "      <th></th>\n",
       "      <th>userId</th>\n",
       "      <th>userId</th>\n",
       "      <th>cosine</th>\n",
       "    </tr>\n",
       "  </thead>\n",
       "  <tbody>\n",
       "    <tr>\n",
       "      <th>0</th>\n",
       "      <td>1</td>\n",
       "      <td>6</td>\n",
       "      <td>0.000000</td>\n",
       "    </tr>\n",
       "    <tr>\n",
       "      <th>1</th>\n",
       "      <td>1</td>\n",
       "      <td>3</td>\n",
       "      <td>0.109584</td>\n",
       "    </tr>\n",
       "    <tr>\n",
       "      <th>2</th>\n",
       "      <td>1</td>\n",
       "      <td>5</td>\n",
       "      <td>0.039579</td>\n",
       "    </tr>\n",
       "    <tr>\n",
       "      <th>3</th>\n",
       "      <td>1</td>\n",
       "      <td>9</td>\n",
       "      <td>0.076114</td>\n",
       "    </tr>\n",
       "    <tr>\n",
       "      <th>4</th>\n",
       "      <td>1</td>\n",
       "      <td>4</td>\n",
       "      <td>0.068095</td>\n",
       "    </tr>\n",
       "    <tr>\n",
       "      <th>5</th>\n",
       "      <td>1</td>\n",
       "      <td>8</td>\n",
       "      <td>0.021307</td>\n",
       "    </tr>\n",
       "    <tr>\n",
       "      <th>6</th>\n",
       "      <td>1</td>\n",
       "      <td>7</td>\n",
       "      <td>0.159225</td>\n",
       "    </tr>\n",
       "    <tr>\n",
       "      <th>7</th>\n",
       "      <td>1</td>\n",
       "      <td>10</td>\n",
       "      <td>0.000000</td>\n",
       "    </tr>\n",
       "    <tr>\n",
       "      <th>8</th>\n",
       "      <td>1</td>\n",
       "      <td>2</td>\n",
       "      <td>0.000000</td>\n",
       "    </tr>\n",
       "    <tr>\n",
       "      <th>9</th>\n",
       "      <td>6</td>\n",
       "      <td>9</td>\n",
       "      <td>0.000000</td>\n",
       "    </tr>\n",
       "  </tbody>\n",
       "</table>\n",
       "</div>"
      ],
      "text/plain": [
       "   userId  userId    cosine\n",
       "0       1       6  0.000000\n",
       "1       1       3  0.109584\n",
       "2       1       5  0.039579\n",
       "3       1       9  0.076114\n",
       "4       1       4  0.068095\n",
       "5       1       8  0.021307\n",
       "6       1       7  0.159225\n",
       "7       1      10  0.000000\n",
       "8       1       2  0.000000\n",
       "9       6       9  0.000000"
      ]
     },
     "metadata": {},
     "output_type": "display_data"
    }
   ],
   "source": [
    "# Cosine Similarity UDF\n",
    "def cosine_similarity(v1,v2):\n",
    "    # Formula:\n",
    "    #   Sim = A·B / |A||B|\n",
    "\n",
    "    # Numerator: scalar product\n",
    "    num = sum(c1*c2 for (c1,c2) in zip(v1,v2))\n",
    "    \n",
    "    # Denominator: modules\n",
    "    mod_a = np.sqrt(sum(c1**2 for c1 in v1))\n",
    "    mod_b = np.sqrt(sum(c2**2 for c2 in v2))\n",
    "    den = mod_a * mod_b\n",
    "\n",
    "    # Similarity\n",
    "    return float(num) / float(den) if den != 0.0 else 0.0\n",
    "\n",
    "cosine_udf = f.udf(lambda v1,v2: cosine_similarity(v1,v2), FloatType())\n",
    "\n",
    "# Apply udf to the pairs of movies in every row\n",
    "df_similarities = user_cross.\\\n",
    "    withColumn('cosine', cosine_udf(f.col('left.features'), f.col('right.features'))).\\\n",
    "    select('left.userId', 'right.userId', 'cosine')\n",
    "\n",
    "display(df_similarities.limit(10).toPandas())"
   ]
  }
 ],
 "metadata": {
  "kernelspec": {
   "display_name": "pyspark_env",
   "language": "python",
   "name": "python3"
  },
  "language_info": {
   "codemirror_mode": {
    "name": "ipython",
    "version": 3
   },
   "file_extension": ".py",
   "mimetype": "text/x-python",
   "name": "python",
   "nbconvert_exporter": "python",
   "pygments_lexer": "ipython3",
   "version": "3.9.21"
  }
 },
 "nbformat": 4,
 "nbformat_minor": 5
}
